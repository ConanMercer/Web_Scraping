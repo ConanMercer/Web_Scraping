{
 "metadata": {
  "language_info": {
   "codemirror_mode": {
    "name": "ipython",
    "version": 3
   },
   "file_extension": ".py",
   "mimetype": "text/x-python",
   "name": "python",
   "nbconvert_exporter": "python",
   "pygments_lexer": "ipython3",
   "version": "3.8.3-final"
  },
  "orig_nbformat": 2,
  "kernelspec": {
   "name": "Python 3.8.3 64-bit ('base': conda)",
   "display_name": "Python 3.8.3 64-bit ('base': conda)",
   "metadata": {
    "interpreter": {
     "hash": "9a443516413c2881eaa45503843a41caec010d6420f7e7f4b04a65c7fd85d327"
    }
   }
  }
 },
 "nbformat": 4,
 "nbformat_minor": 2,
 "cells": [
  {
   "source": [
    "## Data Scraping\n",
    "Data scraping is a technique in which a computer program extracts data from human-readable output coming from another program.\n",
    "\n",
    "Beautiful Soup (called bs4 when calling the package in Python) is a Python package for parsing HTML and XML documents. This will be used to extract data from HTML pages.\n",
    "Urllib is a Python package that collects several modules for working with URLs:\n",
    "* request\n",
    "* error\n",
    "* parse\n",
    "* robot parser\n",
    "\n",
    "The following code block loads these packages and imports BeautifulSoup as soup, which means that we can use \"soup\" when calling BeautifulSoup functions instead of \"BeautifulSoup\" to simplify the code somewhat. Also, urllib as \"uReq\" because the code is only importing the request module. Next, re is imported to facilitate simple usages of regular expressions, very useful for defining search patterns that will be used on the data scraped from the web. Lastly, Pandas as pd providing high-performance, easy-to-use data structures and data analysis tools for Python:"
   ],
   "cell_type": "markdown",
   "metadata": {}
  },
  {
   "cell_type": "code",
   "execution_count": 1,
   "metadata": {},
   "outputs": [],
   "source": [
    "from bs4 import BeautifulSoup as soup  # Library for HTML data structures\n",
    "from urllib.request import urlopen as uReq  # Library for opening URLs\n",
    "import re # Library for regular expressions\n",
    "import pandas as pd # Library for data structures and data analysis tools "
   ]
  },
  {
   "source": [
    "Next a variable is created to store the website URL of interest. The example used here is lifeinformatica.com, a Spanish website that sells computer components. This project will focus on computer central processing units (CPUs) products:"
   ],
   "cell_type": "markdown",
   "metadata": {}
  },
  {
   "cell_type": "code",
   "execution_count": 2,
   "metadata": {},
   "outputs": [],
   "source": [
    "page_url = \"https://lifeinformatica.com/categoria-producto/family-componentes/family-procesadores/\""
   ]
  },
  {
   "source": [
    "Next the connection is opened and the HTML page from the URl is downloaded:"
   ],
   "cell_type": "markdown",
   "metadata": {}
  },
  {
   "cell_type": "code",
   "execution_count": 3,
   "metadata": {},
   "outputs": [],
   "source": [
    "uClient = uReq(page_url)"
   ]
  },
  {
   "source": [
    "Now the html is parsed into a soup data structure. This will allow navigation through the HTML data in a way similar to json data type. After, the connection is closed to the URL (it is important not to leave the connection open):"
   ],
   "cell_type": "markdown",
   "metadata": {}
  },
  {
   "cell_type": "code",
   "execution_count": 4,
   "metadata": {},
   "outputs": [],
   "source": [
    "page_soup = soup(uClient.read(), \"html.parser\")\n",
    "uClient.close()"
   ]
  },
  {
   "source": [
    "page_soup now holds all the HTML data from the URL. The data of interest is each CPU product, specifically the manufacturer, product, speed, and price. The other infomation contained within the HTML is not of importance to the project right now. By navigating through the HTML structure, it is possible to find the class that holds the data for each CPU product:"
   ],
   "cell_type": "markdown",
   "metadata": {}
  },
  {
   "cell_type": "code",
   "execution_count": 5,
   "metadata": {
    "tags": []
   },
   "outputs": [],
   "source": [
    "containers = page_soup.findAll(\"div\", {\"class\": \"product-inner product-item__inner\"})"
   ]
  },
  {
   "source": [
    "A very useful way to check the HTML structure of a website is to use the Developer Tools built into most modern browsers. To access the Developer Tools, hit F12 on the keyboard. From here the inspector tool can be used to click on the data of interest. From here, the data is highlighted in the HTML structure:\n",
    "![title](img/screenshot1.png)"
   ],
   "cell_type": "markdown",
   "metadata": {}
  },
  {
   "source": [
    "Next, the out_filename is a variable that stores the name of the output file in csv format. The headers variable is used to write to local disk the header of csv file to be written. It is important that the header list is delimited in the same way as the rest of the file:"
   ],
   "cell_type": "markdown",
   "metadata": {}
  },
  {
   "cell_type": "code",
   "execution_count": 6,
   "metadata": {},
   "outputs": [],
   "source": [
    "\n",
    "out_filename = \"cpu.csv\"\n",
    "headers = \"manufacturer,product_name,speed,price \\n\"\n"
   ]
  },
  {
   "source": [
    "Next the file is opened and the headers are written to the file. The \"w\" parameter overwrites any existing content:"
   ],
   "cell_type": "markdown",
   "metadata": {}
  },
  {
   "cell_type": "code",
   "execution_count": 7,
   "metadata": {},
   "outputs": [
    {
     "output_type": "execute_result",
     "data": {
      "text/plain": [
       "39"
      ]
     },
     "metadata": {},
     "execution_count": 7
    }
   ],
   "source": [
    "f = open(out_filename, \"w\")\n",
    "f.write(headers)"
   ]
  },
  {
   "source": [
    "Next the actual data extraction from the HTML structure. The data needed is the Manufacturer, Product Name, Speed of the CPU, and the Price.\n",
    "Idealy, the HTML structure would be constructed in a way that all the data needed is already seperated into elements. This is not the case for this website. Here, the data can be extracted by first finding the parts needed. Most of the parts are in the title of each container. From here, strings can be used to carefully pull out the data parts that are needed, in a systematic approach, meaning that it works well for all the CPU products in the webpage."
   ],
   "cell_type": "markdown",
   "metadata": {}
  },
  {
   "cell_type": "code",
   "execution_count": 8,
   "metadata": {},
   "outputs": [],
   "source": [
    "for container in containers:\n",
    "    \n",
    "    #Variables\n",
    "    element = container.findAll(\"h2\", {\"class\": \"woocommerce-loop-product__title\"})[0]\n",
    "    split_word = \"ghz\"\n",
    "    amd = \"amd\"\n",
    "    intel = \"intel\" \n",
    "    full_title = element.text.lower() \n",
    "\n",
    "    #Manufacturer\n",
    "    manufacturer = element.text.split(\" \", 1)[0].lower()\n",
    "\n",
    "    #Speed\n",
    "    if manufacturer == amd and split_word in full_title :\n",
    "        speed = full_title.partition(split_word)[0].split(' ', 4)[4] \n",
    "    if manufacturer == intel:\n",
    "        speed = re.search(\"([^\\s]+)\"+split_word, full_title).group(1)\n",
    "\n",
    "    #Product Name\n",
    "    if manufacturer == amd:\n",
    "        product_name = re.search(manufacturer+\"(.*?)\"+speed, full_title).group(1)\n",
    "    elif manufacturer == intel and \"núcleos\" in full_title:    \n",
    "        product_name = re.search(manufacturer+\"(.*?)\"+\"núcleos\", full_title).group(1)[:-3]\n",
    "\n",
    "    #Price\n",
    "    price = container.findAll(\"span\", {\"class\": \"woocommerce-Price-amount amount\"})[0].text.strip().replace(\"€\", \"\").replace(\",\", \".\")\n",
    "\n",
    "    #Write the data into respective columns\n",
    "    f.write(manufacturer + \", \" + product_name.replace(\",\", \"|\") + \", \" + speed + \", \" + price + \"\\n\")\n",
    "    \n",
    "# Lastly, the file must be closed\n",
    "f.close()"
   ]
  },
  {
   "source": [
    "#### Accounting for Upper and Lower Case\n",
    "Often it is the case that data is not in a perfect state. In this example, some key words are written in different cases, such as \"GHz\" or \"GHZ\". To overcome this, all the text that searches are carried out on are made lower case, using .lower(). This is just one example of how to deal with anomalies in data scraping.\n",
    "\n",
    "#### Checking the Output\n",
    "Lastly the head() function is called to inspect the first 5 rows of the csv file that was closed in the above line. From this it is clear that the data has been scraped, parsed and ordered into the desired headers. For this, the head() function is very useful for quickly testing if the object has the right type of data in it:"
   ],
   "cell_type": "markdown",
   "metadata": {}
  },
  {
   "cell_type": "code",
   "execution_count": 9,
   "metadata": {},
   "outputs": [
    {
     "output_type": "execute_result",
     "data": {
      "text/plain": [
       "  manufacturer      product_name  speed  price \n",
       "0          amd     ryzen 5 3600     4.2   197.9\n",
       "1          amd    ryzen 5 3400g     4.2   139.9\n",
       "2        intel     core i7 10700    4.8   318.9\n",
       "3        intel     core i7 10700    2.9   165.9\n",
       "4        intel    core i5 10400f    4.3   148.9"
      ],
      "text/html": "<div>\n<style scoped>\n    .dataframe tbody tr th:only-of-type {\n        vertical-align: middle;\n    }\n\n    .dataframe tbody tr th {\n        vertical-align: top;\n    }\n\n    .dataframe thead th {\n        text-align: right;\n    }\n</style>\n<table border=\"1\" class=\"dataframe\">\n  <thead>\n    <tr style=\"text-align: right;\">\n      <th></th>\n      <th>manufacturer</th>\n      <th>product_name</th>\n      <th>speed</th>\n      <th>price</th>\n    </tr>\n  </thead>\n  <tbody>\n    <tr>\n      <th>0</th>\n      <td>amd</td>\n      <td>ryzen 5 3600</td>\n      <td>4.2</td>\n      <td>197.9</td>\n    </tr>\n    <tr>\n      <th>1</th>\n      <td>amd</td>\n      <td>ryzen 5 3400g</td>\n      <td>4.2</td>\n      <td>139.9</td>\n    </tr>\n    <tr>\n      <th>2</th>\n      <td>intel</td>\n      <td>core i7 10700</td>\n      <td>4.8</td>\n      <td>318.9</td>\n    </tr>\n    <tr>\n      <th>3</th>\n      <td>intel</td>\n      <td>core i7 10700</td>\n      <td>2.9</td>\n      <td>165.9</td>\n    </tr>\n    <tr>\n      <th>4</th>\n      <td>intel</td>\n      <td>core i5 10400f</td>\n      <td>4.3</td>\n      <td>148.9</td>\n    </tr>\n  </tbody>\n</table>\n</div>"
     },
     "metadata": {},
     "execution_count": 9
    }
   ],
   "source": [
    "data = pd.read_csv(\"cpu.csv\") \n",
    "data.head()"
   ]
  },
  {
   "source": [
    "## Conclusion\n",
    "\n",
    "This project demonstrated how to scrape a website for data using Python and Beautiful Soup. The code starts by defining the website address of the data needed. Then this data is stored locally in a CSV file. Next a method to inspect the webpage manually is shown using the browsers Developer Tools. From here the data is parsed to pull out the useful information, this occurs in the for loop section of the code. Lastly the file is closed and the data within the CSV file is checked to see if it has the right type of data in it."
   ],
   "cell_type": "markdown",
   "metadata": {}
  }
 ]
}