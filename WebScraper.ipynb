{
 "metadata": {
  "language_info": {
   "codemirror_mode": {
    "name": "ipython",
    "version": 3
   },
   "file_extension": ".py",
   "mimetype": "text/x-python",
   "name": "python",
   "nbconvert_exporter": "python",
   "pygments_lexer": "ipython3",
   "version": "3.8.3-final"
  },
  "orig_nbformat": 2,
  "kernelspec": {
   "name": "Python 3.8.3 64-bit ('base': conda)",
   "display_name": "Python 3.8.3 64-bit ('base': conda)",
   "metadata": {
    "interpreter": {
     "hash": "9a443516413c2881eaa45503843a41caec010d6420f7e7f4b04a65c7fd85d327"
    }
   }
  }
 },
 "nbformat": 4,
 "nbformat_minor": 2,
 "cells": [
  {
   "source": [
    "## Data Scraping\n",
    "Data scraping is a technique in which a computer program extracts data from human-readable output coming from another program.\n",
    "\n",
    "Beautiful Soup (called bs4 when calling the package in Python) is a Python package for parsing HTML and XML documents. This will be used to extract data from HTML pages.\n",
    "Urllib is a Python package that collects several modules for working with URLs:\n",
    "* request\n",
    "* error\n",
    "* parse\n",
    "* robot parser\n",
    "\n",
    "The following code block loads these packages and imports BeautifulSoup as soup, which means that we can use \"soup\" when calling BeautifulSoup functions instead of \"BeautifulSoup\" to simplify the code somewhat. Also, urllib as \"uReq\" because the code is only importing the request module."
   ],
   "cell_type": "markdown",
   "metadata": {}
  },
  {
   "cell_type": "code",
   "execution_count": 12,
   "metadata": {},
   "outputs": [],
   "source": [
    "from bs4 import BeautifulSoup as soup  # Library for HTML data structures\n",
    "from urllib.request import urlopen as uReq  # Library for opening URLs\n",
    "import re # Library for regular expressions"
   ]
  },
  {
   "source": [
    "Next a variable is created to store the website URL of interest. The example used here is lifeinformatica.com for computer central processing unit (CPUs) products:"
   ],
   "cell_type": "markdown",
   "metadata": {}
  },
  {
   "cell_type": "code",
   "execution_count": 13,
   "metadata": {},
   "outputs": [],
   "source": [
    "page_url = \"https://lifeinformatica.com/categoria-producto/family-componentes/family-procesadores/\""
   ]
  },
  {
   "source": [
    "Next the connection is opened and the HTML page from the URl is downloaded:"
   ],
   "cell_type": "markdown",
   "metadata": {}
  },
  {
   "cell_type": "code",
   "execution_count": 14,
   "metadata": {},
   "outputs": [],
   "source": [
    "uClient = uReq(page_url)"
   ]
  },
  {
   "source": [
    "Next the html is parsed into a soup data structure. This will allow navigation through the HTML data in a way similar to json data type. After, the connection is closed to the URL:"
   ],
   "cell_type": "markdown",
   "metadata": {}
  },
  {
   "cell_type": "code",
   "execution_count": 15,
   "metadata": {},
   "outputs": [],
   "source": [
    "page_soup = soup(uClient.read(), \"html.parser\")\n",
    "uClient.close()"
   ]
  },
  {
   "source": [
    "page_soup now holds all the HTML data from the URL. The data of interest is each CPU product, specifically the name, brand, speed and price. The other infomation contained within the HTML is not of importance to the project right now. By navigating through the HTML structure, it is possible to find the class that holds the data for each CPU product:"
   ],
   "cell_type": "markdown",
   "metadata": {}
  },
  {
   "cell_type": "code",
   "execution_count": 16,
   "metadata": {
    "tags": []
   },
   "outputs": [],
   "source": [
    "containers = page_soup.findAll(\"div\", {\"class\": \"product-inner product-item__inner\"})"
   ]
  },
  {
   "source": [
    "Next, the out_filename is a variable that stores the name of the output file in csv format. The headers variable is used to write to local disk and header of csv file to be written."
   ],
   "cell_type": "markdown",
   "metadata": {}
  },
  {
   "cell_type": "code",
   "execution_count": 17,
   "metadata": {},
   "outputs": [],
   "source": [
    "\n",
    "out_filename = \"cpu.csv\"\n",
    "headers = \"manufacturer,product_name,speed,price \\n\"\n"
   ]
  },
  {
   "source": [
    "Next the file is opened and the headers are written to the file. The \"w\" parameter overwrites any existing content:"
   ],
   "cell_type": "markdown",
   "metadata": {}
  },
  {
   "cell_type": "code",
   "execution_count": 18,
   "metadata": {},
   "outputs": [
    {
     "output_type": "execute_result",
     "data": {
      "text/plain": [
       "39"
      ]
     },
     "metadata": {},
     "execution_count": 18
    }
   ],
   "source": [
    "f = open(out_filename, \"w\")\n",
    "f.write(headers)"
   ]
  },
  {
   "source": [
    "Next the actual data extraction from the HTML structure. The data needed is the Manufacturer, Product Name, Speed of the CPU, and the Price.\n",
    "Idealy, the HTML structure would be constructed in a way that all the data needed is already seperated into elements. This is not the case for this website. Here, the data can be extracted by first finding the parts needed. Most of the parts are in the title of each container. From here strings can be used to carefully pull out the data parts that are needed, in a systematic apporach, meaning that it works well for all the CPU products in the webpage."
   ],
   "cell_type": "markdown",
   "metadata": {}
  },
  {
   "cell_type": "code",
   "execution_count": 19,
   "metadata": {},
   "outputs": [
    {
     "output_type": "stream",
     "name": "stdout",
     "text": [
      "manufacturer: AMD\n",
      "\n",
      "product_name:  Ryzen 5 3600 \n",
      "\n",
      "speed: 4.2\n",
      "\n",
      "price: 197.90\n",
      "\n",
      "\n",
      "\n",
      "\n",
      "\n",
      "manufacturer: Intel\n",
      "\n",
      "product_name:  Core i7 10700\n",
      "\n",
      "speed: 4.80\n",
      "\n",
      "price: 318.90\n",
      "\n",
      "\n",
      "\n",
      "\n",
      "\n",
      "manufacturer: AMD\n",
      "\n",
      "product_name:  Ryzen 5 3400G \n",
      "\n",
      "speed: 4.2 \n",
      "\n",
      "price: 139.90\n",
      "\n",
      "\n",
      "\n",
      "\n",
      "\n",
      "manufacturer: Intel\n",
      "\n",
      "product_name:  Core i5 10400F\n",
      "\n",
      "speed: 4.30\n",
      "\n",
      "price: 148.90\n",
      "\n",
      "\n",
      "\n",
      "\n",
      "\n",
      "manufacturer: Intel\n",
      "\n",
      "product_name:  Core i5 10400 \n",
      "\n",
      "speed: 2.90\n",
      "\n",
      "price: 165.90\n",
      "\n",
      "\n",
      "\n",
      "\n",
      "\n",
      "manufacturer: AMD\n",
      "\n",
      "product_name:  Ryzen 5 2600 \n",
      "\n",
      "speed: 3.9\n",
      "\n",
      "price: 139.90\n",
      "\n",
      "\n",
      "\n",
      "\n",
      "\n",
      "manufacturer: Intel\n",
      "\n",
      "product_name:  Core i9 10900X 4.5GHz \n",
      "\n",
      "speed: 4.5\n",
      "\n",
      "price: 629.90\n",
      "\n",
      "\n",
      "\n",
      "\n",
      "\n",
      "manufacturer: AMD\n",
      "\n",
      "product_name:  Ryzen 9 3900XT \n",
      "\n",
      "speed: 4.7\n",
      "\n",
      "price: 540.23\n",
      "\n",
      "\n",
      "\n",
      "\n",
      "\n",
      "manufacturer: Intel\n",
      "\n",
      "product_name:  Core i3 10100\n",
      "\n",
      "speed: 4.30\n",
      "\n",
      "price: 113.90\n",
      "\n",
      "\n",
      "\n",
      "\n",
      "\n",
      "manufacturer: Intel\n",
      "\n",
      "product_name:  Core i7 10700K\n",
      "\n",
      "speed: 5.10\n",
      "\n",
      "price: 369.90\n",
      "\n",
      "\n",
      "\n",
      "\n",
      "\n",
      "manufacturer: Intel\n",
      "\n",
      "product_name:  Core i7 9700F \n",
      "\n",
      "speed: 4.70\n",
      "\n",
      "price: 249.75\n",
      "\n",
      "\n",
      "\n",
      "\n",
      "\n",
      "manufacturer: Intel\n",
      "\n",
      "product_name:  Core i9 10900 \n",
      "\n",
      "speed: 5.2\n",
      "\n",
      "price: 457.90\n",
      "\n",
      "\n",
      "\n",
      "\n",
      "\n",
      "manufacturer: AMD\n",
      "\n",
      "product_name:  Ryzen 7 3800XT \n",
      "\n",
      "speed: 4.7\n",
      "\n",
      "price: 399.90\n",
      "\n",
      "\n",
      "\n",
      "\n",
      "\n",
      "manufacturer: Intel\n",
      "\n",
      "product_name:  Core i3 9100F \n",
      "\n",
      "speed: 4.2\n",
      "\n",
      "price: 67.75\n",
      "\n",
      "\n",
      "\n",
      "\n",
      "\n",
      "manufacturer: AMD\n",
      "\n",
      "product_name:  Ryzen 5 2600X \n",
      "\n",
      "speed: 4.2\n",
      "\n",
      "price: 149.90\n",
      "\n",
      "\n",
      "\n",
      "\n",
      "\n",
      "manufacturer: AMD\n",
      "\n",
      "product_name:  Ryzen 7 2700X \n",
      "\n",
      "speed: 4.35\n",
      "\n",
      "price: 198.90\n",
      "\n",
      "\n",
      "\n",
      "\n",
      "\n",
      "manufacturer: Intel\n",
      "\n",
      "product_name:  Core i9 10900K \n",
      "\n",
      "speed: 5.30\n",
      "\n",
      "price: 589.00\n",
      "\n",
      "\n",
      "\n",
      "\n",
      "\n",
      "manufacturer: AMD\n",
      "\n",
      "product_name:  Ryzen 5 5600X \n",
      "\n",
      "speed: 4.60\n",
      "\n",
      "price: 309.00\n",
      "\n",
      "\n",
      "\n",
      "\n",
      "\n",
      "manufacturer: AMD\n",
      "\n",
      "product_name:  Ryzen 7 5800X \n",
      "\n",
      "speed: 4.70\n",
      "\n",
      "price: 646.00\n",
      "\n",
      "\n",
      "\n",
      "\n",
      "\n",
      "manufacturer: AMD\n",
      "\n",
      "product_name:  Ryzen 9 5900X \n",
      "\n",
      "speed: 4.80\n",
      "\n",
      "price: 567.00\n",
      "\n",
      "\n",
      "\n",
      "\n",
      "\n"
     ]
    }
   ],
   "source": [
    "for container in containers:\n",
    "\n",
    "    element = container.findAll(\"h2\", {\"class\": \"woocommerce-loop-product__title\"})[0]\n",
    "\n",
    "    #Manufacturer\n",
    "    manufacturer = element.text.split(' ', 1)[0]\n",
    "\n",
    "\n",
    "    #Speed\n",
    "    full_title = element.text \n",
    "    split_word = 'GHz'\n",
    "    split_word2 = 'GHZ'  \n",
    "    if manufacturer == \"AMD\" and split_word in full_title :\n",
    "        speed = full_title.partition(split_word)[0].split(' ', 4)[4] \n",
    "    if manufacturer == \"AMD\" and split_word2 in full_title :\n",
    "        speed = full_title.partition(split_word2)[0].split(' ', 4)[4] \n",
    "    if manufacturer == \"Intel\":\n",
    "       speed = re.search('([^\\s]+)'+split_word, full_title).group(1)\n",
    "\n",
    "\n",
    "    #Product Name\n",
    "    speed2 = full_title.partition(split_word)[0].split(' ', 4)[4]\n",
    "    if manufacturer == \"AMD\":\n",
    "        product_name = re.search(manufacturer+'(.*?)'+speed2, full_title).group(1)\n",
    "    elif manufacturer == \"Intel\" and \"núcleos\" in full_title:    \n",
    "        product_name = re.search(manufacturer+'(.*?)'+'núcleos', full_title).group(1)[:-3]\n",
    "    else: product_name = re.search(manufacturer+'(.*?)'+speed2, full_title).group(1)\n",
    "\n",
    "\n",
    "    #Price\n",
    "    price = container.findAll(\"span\", {\"class\": \"woocommerce-Price-amount amount\"})[0].text.strip().replace(\"€\", \"\").replace(\",\", \".\")\n",
    "\n",
    "    print(\"manufacturer: \" + manufacturer + \"\\n\")\n",
    "    print(\"product_name: \" + product_name + \"\\n\")\n",
    "    print(\"speed: \" + speed + \"\\n\")\n",
    "    print(\"price: \" + price + \"\\n\")\n",
    "\n",
    "    f.write(manufacturer + \", \" + product_name.replace(\",\", \"|\") + \", \" + speed + \", \" + price + \"\\n\")"
   ]
  },
  {
   "source": [
    "Lastly, the file must be closed:"
   ],
   "cell_type": "markdown",
   "metadata": {}
  },
  {
   "cell_type": "code",
   "execution_count": 20,
   "metadata": {},
   "outputs": [],
   "source": [
    "f.close()\n"
   ]
  }
 ]
}